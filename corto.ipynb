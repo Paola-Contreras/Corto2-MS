{
 "cells": [
  {
   "cell_type": "markdown",
   "metadata": {},
   "source": [
    "### Corto No.2 \n",
    "- Paola De León 20361\n",
    "- Gabriela Contreras 20213"
   ]
  },
  {
   "cell_type": "markdown",
   "metadata": {},
   "source": [
    "**PREGUNTAS TEORICAS**"
   ]
  },
  {
   "cell_type": "markdown",
   "metadata": {},
   "source": [
    "1. Defina los componentes de las Cadenas de Markov\n",
    "    - Estados: estos hacen referencia a las posibles condiciones o situaciones en las que se puede encontrar el sistema\n",
    "    - Probailidades de transición: estas son las probabilidades de pasar de un estado a otro en un solo paso de tiempo, se organiza en una matriz de transición por medio de las cuales se define el comportamiento dinámico del sistema \n",
    "    - Probailidades de estado inicial: esta es como la distribución de las condiciones iniciales\n"
   ]
  },
  {
   "cell_type": "markdown",
   "metadata": {},
   "source": [
    "2. Defina por lo menos 3 propiedades de las Cadenas de Markov\n",
    "    - Falta de memoria: Solo reconoce la situacion actual y no las anteriores a estas \n",
    "    - Distribución de estado estacionario: Tiempo que pasa cada cosa en un estado \n",
    "    - Ergodicidad: Esto nos indica si es posible alcanzar un estado desde otro estado"
   ]
  },
  {
   "cell_type": "markdown",
   "metadata": {},
   "source": [
    "3. ¿Por qué se suele usar procesos de Poisson para simular colas?\n",
    "    - xxx"
   ]
  },
  {
   "cell_type": "markdown",
   "metadata": {},
   "source": [
    "4. Defina las dos etapas que se suelen emplear para Simulation Optimization\n",
    "    - 1ra. Etapa: Implica encontrar las decisiones determinísticas optimas en base a lo que sabemos\n",
    "    - 2da. Etapa: Implica tomar decisiones que se basan en  la aleatoriedad"
   ]
  },
  {
   "cell_type": "markdown",
   "metadata": {},
   "source": [
    "**PREGUNTAS PARACTICA**"
   ]
  },
  {
   "cell_type": "code",
   "execution_count": null,
   "metadata": {},
   "outputs": [],
   "source": [
    "\n",
    "N = 1000\n",
    "Tasa_descuento = 0.1\n",
    "Inversion = 5 # 5 años \n",
    " "
   ]
  },
  {
   "cell_type": "markdown",
   "metadata": {},
   "source": [
    "1. ¿Qué tanto influye cada variable en el VPN?\n",
    "    - xxx"
   ]
  },
  {
   "cell_type": "markdown",
   "metadata": {},
   "source": [
    "2. ¿Qué variable influye más? ¿Por qué cree que es esto?\n",
    "    - xxx"
   ]
  },
  {
   "cell_type": "markdown",
   "metadata": {},
   "source": [
    "3. ¿Hay una diferencia significativa en la influencia de cada variable? ¿Por qué?\n",
    "    - xxx"
   ]
  },
  {
   "cell_type": "markdown",
   "metadata": {},
   "source": [
    "4. Si tuviera que hacer mejoras al análisis ¿qué podría hacer?\n",
    "    - xxx"
   ]
  }
 ],
 "metadata": {
  "kernelspec": {
   "display_name": "Python 3",
   "language": "python",
   "name": "python3"
  },
  "language_info": {
   "name": "python",
   "version": "3.11.2"
  },
  "orig_nbformat": 4
 },
 "nbformat": 4,
 "nbformat_minor": 2
}
