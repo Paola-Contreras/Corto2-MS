{
 "cells": [
  {
   "cell_type": "markdown",
   "metadata": {},
   "source": [
    "### Corto No.2 \n",
    "- Paola De León 20361\n",
    "- Gabriela Contreras 20213"
   ]
  },
  {
   "cell_type": "markdown",
   "metadata": {},
   "source": [
    "**PREGUNTAS TEORICAS**"
   ]
  },
  {
   "cell_type": "markdown",
   "metadata": {},
   "source": [
    "1. Defina los componentes de las Cadenas de Markov\n",
    "    - Estados: estos hacen referencia a las posibles condiciones o situaciones en las que se puede encontrar el sistema\n",
    "    - Probailidades de transición: estas son las probabilidades de pasar de un estado a otro en un solo paso de tiempo, se organiza en una matriz de transición por medio de las cuales se define el comportamiento dinámico del sistema \n",
    "    - Probailidades de estado inicial: esta es como la distribución de las condiciones iniciales\n"
   ]
  },
  {
   "cell_type": "markdown",
   "metadata": {},
   "source": [
    "2. Defina por lo menos 3 propiedades de las Cadenas de Markov\n",
    "    - Falta de memoria: Solo reconoce la situacion actual y no las anteriores a estas \n",
    "    - Distribución de estado estacionario: Tiempo que pasa cada cosa en un estado \n",
    "    - Ergodicidad: Esto nos indica si es posible alcanzar un estado desde otro estado"
   ]
  },
  {
   "cell_type": "markdown",
   "metadata": {},
   "source": [
    "3. ¿Por qué se suele usar procesos de Poisson para simular colas?\n",
    "    - Estos son utilizados para la simulación de colas pues estos modelan los eventos aleatorios que ocurren en el tiempo de manera independiente a una tasa constante, lo cual se adapta perfecto al concepto de una cola en la cual las llegadas y salidas son eventos aleatorios y estocásticos.  \n"
   ]
  },
  {
   "cell_type": "markdown",
   "metadata": {},
   "source": [
    "4. Defina las dos etapas que se suelen emplear para Simulation Optimization\n",
    "    - 1ra. Etapa: Implica encontrar las decisiones determinísticas optimas en base a lo que sabemos\n",
    "    - 2da. Etapa: Implica tomar decisiones que se basan en  la aleatoriedad"
   ]
  },
  {
   "cell_type": "markdown",
   "metadata": {},
   "source": [
    "**PREGUNTAS PARACTICA**"
   ]
  },
  {
   "cell_type": "code",
   "execution_count": 2,
   "metadata": {},
   "outputs": [
    {
     "name": "stdout",
     "output_type": "stream",
     "text": [
      "                        ST   ST_conf\n",
      "Tasa de Interés:  1.052133  0.184014\n",
      "Volatilidad       0.981721  0.173882\n",
      "                        S1   S1_conf\n",
      "Tasa de Interés:  0.263730  0.184372\n",
      "Volatilidad       0.083161  0.176729\n"
     ]
    },
    {
     "name": "stderr",
     "output_type": "stream",
     "text": [
      "C:\\Users\\Contreras GP\\AppData\\Local\\Temp\\ipykernel_14532\\1476360697.py:35: DeprecationWarning: `salib.sample.saltelli` will be removed in SALib 1.5. Please use `salib.sample.sobol`\n",
      "  param_values = saltelli.sample(problem, N)\n",
      "c:\\Users\\Contreras GP\\AppData\\Local\\Programs\\Python\\Python311\\Lib\\site-packages\\SALib\\sample\\saltelli.py:109: UserWarning: \n",
      "        Convergence properties of the Sobol' sequence is only valid if\n",
      "        `N` (1000) is equal to `2^n`.\n",
      "        \n",
      "  warnings.warn(msg)\n"
     ]
    },
    {
     "data": {
      "image/png": "[encoded data removed]",
      "text/plain": [
       "<Figure size 640x480 with 1 Axes>"
      ]
     },
     "metadata": {},
     "output_type": "display_data"
    }
   ],
   "source": [
    "import numpy as np\n",
    "import matplotlib.pyplot as plt\n",
    "from SALib.analyze import sobol\n",
    "from SALib.sample import saltelli\n",
    "\n",
    "# Parámetros del problema\n",
    "N = 1000\n",
    "Inversion = 5\n",
    "media  = 500000\n",
    "Tasa_descuento = 0.1\n",
    "esviación_estándar  = 100000\n",
    "\n",
    "\n",
    "# Distribución de datos\n",
    "np.random.seed(123)\n",
    "flujos = np.random.normal(\n",
    "    loc = media, \n",
    "    scale = esviación_estándar,\n",
    "    size=(N, Inversion))\n",
    "\n",
    "\n",
    "# Descontar flujos de caja a valores actuales.\n",
    "discounted_flujos = flujos / (1 + Tasa_descuento) ** np.arange(1, Inversion + 1)\n",
    "present_value_net = np.sum(discounted_flujos, axis=1)\n",
    "\n",
    "\n",
    "# Definir rangos de las variables de entrada\n",
    "problem = {\n",
    "    'num_vars': 2,\n",
    "    'names': ['Tasa de Interés:', 'Volatilidad'],\n",
    "    'bounds': [[0.08, 0.12], [0.15, 0.25]]\n",
    "}\n",
    "\n",
    "# Generar muestras\n",
    "param_values = saltelli.sample(problem, N)\n",
    "\n",
    "\n",
    "# Evaluar el modelo con las muestras generadas\n",
    "Y = np.array(present_value_net)\n",
    "\n",
    "\n",
    "# Realizar el análisis de sensibilidad\n",
    "Si = sobol.analyze(problem, Y, calc_second_order=False, print_to_console=True)\n",
    "\n",
    "\n",
    "# Gráficar \n",
    "param_names = ['Tasa de Interés', 'Volatilidad']\n",
    "plt.bar(param_names, Si['ST'], color=['blue', 'orange'])\n",
    "plt.ylabel('Índice de Sensibilidad (ST)')\n",
    "plt.title('Análisis de Sensibilidad Global')\n",
    "\n",
    "# Agregar etiquetas con valores numéricos en la parte superior de las barras\n",
    "for i, val in enumerate(Si['ST']):\n",
    "    plt.text(i, val + 0.01, f'{val:.2f}', ha='center', va='bottom', fontsize=10, color='black')\n",
    "\n",
    "plt.show()\n",
    "\n",
    "\n",
    " "
   ]
  },
  {
   "cell_type": "markdown",
   "metadata": {},
   "source": [
    "1. ¿Qué tanto influye cada variable en el VPN?\n",
    "    - Ambas variables tienen un impacto significativo en el Valor Presente Neto, pues en el la variable de tasa de interés se obtuvo un índice de sensibilidad de 1.05 y con la variable de volatibilidad un 0.98. Estos resultados indican que un cambio del 1% en la tasa de interés resulta en un cambio del 1.05% del VPN, mientras que un cambio del 1% en la volatibilidad impacta un 0.98% en el VPN.\n"
   ]
  },
  {
   "cell_type": "markdown",
   "metadata": {},
   "source": [
    "2. ¿Qué variable influye más? ¿Por qué cree que es esto?\n",
    "    - Ambas variables tienen un impacto significativo en el Valor Presente Neto, pues en el la variable de tasa de interés se obtuvo un índice de sensibilidad de 1.05 y con la variable de volatibilidad un 0.98. Estos resultados indican que un cambio del 1% en la tasa de interés resulta en un cambio del 1.05% del VPN, mientras que un cambio del 1% en la volatibilidad impacta un 0.98% en el VPN."
   ]
  },
  {
   "cell_type": "markdown",
   "metadata": {},
   "source": [
    "3. ¿Hay una diferencia significativa en la influencia de cada variable? ¿Por qué?\n",
    "    - A pesar de que la tasa de interés cuenta con un influencia relativamente mayor en comparación con la volatidad no se cuenta con una diferencia significativa puesto a que ambas variables generan cambios significativos los cuales son importantes evaluar ante una decision financiera. "
   ]
  },
  {
   "cell_type": "markdown",
   "metadata": {},
   "source": [
    "4. Si tuviera que hacer mejoras al análisis ¿qué podría hacer?\n",
    "    - Para poder contar con un análisis más completo se podrían agregar otros factores de costos e ingresos para así poder evaluar todos los posibles factores que podrían afectar una inversión. \n",
    "    - Se podría aumentar el numero de la muestra que se estan utilizando con la finalidad de poder ir evaluando los cambios de manera más detallada la fluctuación de las variables evaluadas. "
   ]
  }
 ],
 "metadata": {
  "kernelspec": {
   "display_name": "Python 3",
   "language": "python",
   "name": "python3"
  },
  "language_info": {
   "codemirror_mode": {
    "name": "ipython",
    "version": 3
   },
   "file_extension": ".py",
   "mimetype": "text/x-python",
   "name": "python",
   "nbconvert_exporter": "python",
   "pygments_lexer": "ipython3",
   "version": "3.11.2"
  },
  "orig_nbformat": 4
 },
 "nbformat": 4,
 "nbformat_minor": 2
}
